{
  "nbformat": 4,
  "nbformat_minor": 0,
  "metadata": {
    "colab": {
      "provenance": [],
      "authorship_tag": "ABX9TyOQu5le2EGSB4MS365CVqK2",
      "include_colab_link": true
    },
    "kernelspec": {
      "name": "python3",
      "display_name": "Python 3"
    },
    "language_info": {
      "name": "python"
    }
  },
  "cells": [
    {
      "cell_type": "markdown",
      "metadata": {
        "id": "view-in-github",
        "colab_type": "text"
      },
      "source": [
        "<a href=\"https://colab.research.google.com/github/JTenaSan/CS3120_EDA_Jesus-Tena/blob/main/Spotify_EDA_Modeling_Jesus_Tena.ipynb\" target=\"_parent\"><img src=\"https://colab.research.google.com/assets/colab-badge.svg\" alt=\"Open In Colab\"/></a>"
      ]
    },
    {
      "cell_type": "code",
      "execution_count": 1,
      "metadata": {
        "colab": {
          "base_uri": "https://localhost:8080/"
        },
        "id": "3YUfAtW0W3Ga",
        "outputId": "62f105bc-8311-4159-97ae-93c150450cc7"
      },
      "outputs": [
        {
          "output_type": "stream",
          "name": "stdout",
          "text": [
            "Downloading from https://www.kaggle.com/api/v1/datasets/download/irynatokarchuk/top-streamed-spotify-songs-by-year-2010-2023?dataset_version_number=1...\n"
          ]
        },
        {
          "output_type": "stream",
          "name": "stderr",
          "text": [
            "100%|██████████| 425k/425k [00:00<00:00, 72.0MB/s]"
          ]
        },
        {
          "output_type": "stream",
          "name": "stdout",
          "text": [
            "Extracting files...\n",
            "Path to dataset files: /root/.cache/kagglehub/datasets/irynatokarchuk/top-streamed-spotify-songs-by-year-2010-2023/versions/1\n",
            "Files in the downloaded folder: ['spotify_full_list_20102023.csv']\n"
          ]
        },
        {
          "output_type": "stream",
          "name": "stderr",
          "text": [
            "\n"
          ]
        }
      ],
      "source": [
        "import os\n",
        "import numpy as np\n",
        "import pandas as pd\n",
        "import matplotlib.pyplot as plt\n",
        "import matplotlib.ticker as ticker\n",
        "from matplotlib.ticker import ScalarFormatter\n",
        "import kagglehub\n",
        "\n",
        "# Download latest version\n",
        "path = kagglehub.dataset_download(\"irynatokarchuk/top-streamed-spotify-songs-by-year-2010-2023\")\n",
        "print(\"Path to dataset files:\", path)\n",
        "\n",
        "# Check if the downloaded folder exists\n",
        "if os.path.exists(path):\n",
        "    # List the files in the downloaded folder\n",
        "    files = os.listdir(path)\n",
        "    print(\"Files in the downloaded folder:\", files)\n",
        "\n",
        "    # Find the CSV file\n",
        "    csv_file = next((f for f in files if f.endswith('.csv')), None)\n",
        "\n",
        "    if csv_file:\n",
        "        file_path = os.path.join(path, csv_file)  # Use the found CSV file\n",
        "        df = pd.read_csv(file_path)\n",
        "    else:\n",
        "        print(\"CSV file not found in the downloaded folder.\")\n",
        "else:\n",
        "    print(\"Downloaded folder not found.\")"
      ]
    }
  ]
}