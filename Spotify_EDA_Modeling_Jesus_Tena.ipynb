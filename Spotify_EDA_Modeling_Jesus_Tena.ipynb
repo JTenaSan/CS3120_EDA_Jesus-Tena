{
  "nbformat": 4,
  "nbformat_minor": 0,
  "metadata": {
    "colab": {
      "provenance": [],
      "authorship_tag": "ABX9TyN7sM9Twxbvv01NS3iZU3Z7",
      "include_colab_link": true
    },
    "kernelspec": {
      "name": "python3",
      "display_name": "Python 3"
    },
    "language_info": {
      "name": "python"
    }
  },
  "cells": [
    {
      "cell_type": "markdown",
      "metadata": {
        "id": "view-in-github",
        "colab_type": "text"
      },
      "source": [
        "<a href=\"https://colab.research.google.com/github/JTenaSan/CS3120_EDA_Jesus-Tena/blob/main/Spotify_EDA_Modeling_Jesus_Tena.ipynb\" target=\"_parent\"><img src=\"https://colab.research.google.com/assets/colab-badge.svg\" alt=\"Open In Colab\"/></a>"
      ]
    },
    {
      "cell_type": "code",
      "execution_count": 4,
      "metadata": {
        "colab": {
          "base_uri": "https://localhost:8080/"
        },
        "id": "3YUfAtW0W3Ga",
        "outputId": "98547417-b866-40b6-a4b6-3abc86b445e2"
      },
      "outputs": [
        {
          "output_type": "stream",
          "name": "stdout",
          "text": [
            "Path to dataset files: /root/.cache/kagglehub/datasets/irynatokarchuk/top-streamed-spotify-songs-by-year-2010-2023/versions/1\n",
            "Files in the downloaded folder: ['spotify_full_list_20102023.csv']\n"
          ]
        }
      ],
      "source": [
        "import os\n",
        "import numpy as np\n",
        "import pandas as pd\n",
        "import matplotlib.pyplot as plt\n",
        "import matplotlib.ticker as ticker\n",
        "from matplotlib.ticker import ScalarFormatter\n",
        "import kagglehub\n",
        "from sklearn.preprocessing import OneHotEncoder\n",
        "from sklearn.preprocessing import StandardScaler\n",
        "from sklearn.model_selection import train_test_split\n",
        "from sklearn.linear_model import LinearRegression\n",
        "from sklearn.metrics import mean_squared_error, r2_score\n",
        "\n",
        "# Download latest version\n",
        "path = kagglehub.dataset_download(\"irynatokarchuk/top-streamed-spotify-songs-by-year-2010-2023\")\n",
        "print(\"Path to dataset files:\", path)\n",
        "\n",
        "# Check if the downloaded folder exists\n",
        "if os.path.exists(path):\n",
        "    # List the files in the downloaded folder\n",
        "    files = os.listdir(path)\n",
        "    print(\"Files in the downloaded folder:\", files)\n",
        "\n",
        "    # Find the CSV file\n",
        "    csv_file = next((f for f in files if f.endswith('.csv')), None)\n",
        "\n",
        "    if csv_file:\n",
        "        file_path = os.path.join(path, csv_file)  # Use the found CSV file\n",
        "        df = pd.read_csv(file_path)\n",
        "    else:\n",
        "        print(\"CSV file not found in the downloaded folder.\")\n",
        "else:\n",
        "    print(\"Downloaded folder not found.\")\n",
        "\n",
        "\n",
        "encoder = OneHotEncoder()"
      ]
    },
    {
      "cell_type": "markdown",
      "source": [
        "# Linear Regression Model"
      ],
      "metadata": {
        "id": "EIub48wkcga-"
      }
    },
    {
      "cell_type": "code",
      "source": [
        "# Encode 'main_genre'\n",
        "encoded_genres = encoder.fit_transform(df[['main_genre']]).toarray()\n",
        "encoded_genres_df = pd.DataFrame(encoded_genres, columns=[f'genre_{i}' for i in range(encoded_genres.shape[1])]) # Create a DataFrame for encoded genres\n",
        "df = pd.concat([df, encoded_genres_df], axis=1) # Concatenate the encoded genres with the original DataFrame\n",
        "\n",
        "# Encode 'Artist'\n",
        "encoded_artist = encoder.fit_transform(df[['Artist']]).toarray()\n",
        "encoded_artist_df = pd.DataFrame(encoded_artist, columns=[f'genre_{i}' for i in range(encoded_artist.shape[1])]) # Create a DataFrame for encoded Artist\n",
        "df = pd.concat([df, encoded_artist_df], axis=1) # Concatenate the encoded Artist with the original DataFrame\n",
        "\n",
        "# Scales 'Streams'\n",
        "scaler = StandardScaler()\n",
        "df['Streams'] = scaler.fit_transform(df[['Streams']])\n",
        "\n",
        "# Splits into train and test\n",
        "genre_columns = encoded_genres_df.columns # Get the genre column names\n",
        "X = df[list(genre_columns) + ['Daily']]  # Select genre columns and 'Streams' for features\n",
        "y = df['Streams']  # Example target\n",
        "\n",
        "X_train, X_test, y_train, y_test = train_test_split(X, y, test_size=0.2, random_state=42)"
      ],
      "metadata": {
        "id": "iKhA-iLEcrau"
      },
      "execution_count": 27,
      "outputs": []
    },
    {
      "cell_type": "code",
      "source": [
        "model = LinearRegression()\n",
        "model.fit(X_train, y_train)\n",
        "\n",
        "# Predictions\n",
        "y_pred = model.predict(X_test)"
      ],
      "metadata": {
        "id": "2e03GdwJgSiq"
      },
      "execution_count": 28,
      "outputs": []
    },
    {
      "cell_type": "code",
      "source": [
        "rmse = mean_squared_error(y_test, y_pred, squared=False)\n",
        "r2 = r2_score(y_test, y_pred)\n",
        "\n",
        "print(f\"RMSE: {rmse}\")\n",
        "print(f\"R²: {r2}\")"
      ],
      "metadata": {
        "colab": {
          "base_uri": "https://localhost:8080/"
        },
        "id": "jKwpQU5PgXRI",
        "outputId": "7885f24d-8730-4a08-a07f-195b8bb9eb6b"
      },
      "execution_count": 29,
      "outputs": [
        {
          "output_type": "stream",
          "name": "stdout",
          "text": [
            "RMSE: 0.6712026062104697\n",
            "R²: 0.5417919169529322\n"
          ]
        },
        {
          "output_type": "stream",
          "name": "stderr",
          "text": [
            "/usr/local/lib/python3.10/dist-packages/sklearn/metrics/_regression.py:492: FutureWarning: 'squared' is deprecated in version 1.4 and will be removed in 1.6. To calculate the root mean squared error, use the function'root_mean_squared_error'.\n",
            "  warnings.warn(\n"
          ]
        }
      ]
    },
    {
      "cell_type": "markdown",
      "source": [
        "Based on the r2 it seems that the main genre has a .54, meaning it does not really have a strong relationship between genre and daily (x variables) and Streams (y)."
      ],
      "metadata": {
        "id": "D60Kj4OVpsSi"
      }
    },
    {
      "cell_type": "code",
      "source": [
        "artist_columns = encoded_artist_df.columns\n",
        "X = df[list(genre_columns) + list(artist_columns)]  # Select genre columns and 'Streams' for features\n",
        "y = df['Streams']  # Example target\n",
        "\n",
        "X_train, X_test, y_train, y_test = train_test_split(X, y, test_size=0.2, random_state=42)\n",
        "\n",
        "model2 = LinearRegression()\n",
        "model2.fit(X_train, y_train)\n",
        "\n",
        "# Predictions\n",
        "y_pred2 = model2.predict(X_test)\n",
        "\n",
        "rmse = mean_squared_error(y_test, y_pred, squared=False)\n",
        "r2 = r2_score(y_test, y_pred)\n",
        "\n",
        "print(f\"RMSE: {rmse}\")\n",
        "print(f\"R²: {r2}\")"
      ],
      "metadata": {
        "colab": {
          "base_uri": "https://localhost:8080/"
        },
        "id": "fPNK8JLgprvy",
        "outputId": "4770f44a-6951-4a8d-e471-219cfda6b4ea"
      },
      "execution_count": 26,
      "outputs": [
        {
          "output_type": "stream",
          "name": "stdout",
          "text": [
            "RMSE: 0.6712026062102694\n",
            "R²: 0.5417919169532057\n"
          ]
        },
        {
          "output_type": "stream",
          "name": "stderr",
          "text": [
            "/usr/local/lib/python3.10/dist-packages/sklearn/metrics/_regression.py:492: FutureWarning: 'squared' is deprecated in version 1.4 and will be removed in 1.6. To calculate the root mean squared error, use the function'root_mean_squared_error'.\n",
            "  warnings.warn(\n"
          ]
        }
      ]
    },
    {
      "cell_type": "markdown",
      "source": [
        "Now as for the correlation between Artist and the main_genre that would predict the Streams we can see that the r2 is only at .54 as well for predicting total number of Streams, meaning just like with the genres we have a pretty decent correlation betwen genre + artists."
      ],
      "metadata": {
        "id": "Cd0MYcSdx5ka"
      }
    },
    {
      "cell_type": "code",
      "source": [],
      "metadata": {
        "id": "CPGrTDsVx439"
      },
      "execution_count": null,
      "outputs": []
    }
  ]
}